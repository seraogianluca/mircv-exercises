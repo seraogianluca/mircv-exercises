{
  "nbformat": 4,
  "nbformat_minor": 0,
  "metadata": {
    "kernelspec": {
      "display_name": "Python 3",
      "language": "python",
      "name": "python3"
    },
    "language_info": {
      "codemirror_mode": {
        "name": "ipython",
        "version": 3
      },
      "file_extension": ".py",
      "mimetype": "text/x-python",
      "name": "python",
      "nbconvert_exporter": "python",
      "pygments_lexer": "ipython3",
      "version": "3.7.6"
    },
    "colab": {
      "name": "Exercise3.ipynb",
      "provenance": [],
      "collapsed_sections": [],
      "include_colab_link": true
    },
    "widgets": {
      "application/vnd.jupyter.widget-state+json": {
        "2e4c81d41a774a4f8496c27dcdcca0c3": {
          "model_module": "@jupyter-widgets/controls",
          "model_name": "ImageModel",
          "state": {
            "_view_name": "ImageView",
            "_dom_classes": [],
            "_model_name": "ImageModel",
            "format": "jpeg",
            "_view_module": "@jupyter-widgets/controls",
            "_model_module_version": "1.5.0",
            "_view_count": null,
            "width": "300",
            "_view_module_version": "1.5.0",
            "layout": "IPY_MODEL_c018f7aab06e45269d9a89fb805cccda",
            "height": "400",
            "_model_module": "@jupyter-widgets/controls"
          }
        },
        "c018f7aab06e45269d9a89fb805cccda": {
          "model_module": "@jupyter-widgets/base",
          "model_name": "LayoutModel",
          "state": {
            "_view_name": "LayoutView",
            "grid_template_rows": null,
            "right": null,
            "justify_content": null,
            "_view_module": "@jupyter-widgets/base",
            "overflow": null,
            "_model_module_version": "1.2.0",
            "_view_count": null,
            "flex_flow": null,
            "width": null,
            "min_width": null,
            "border": null,
            "align_items": null,
            "bottom": null,
            "_model_module": "@jupyter-widgets/base",
            "top": null,
            "grid_column": null,
            "overflow_y": null,
            "overflow_x": null,
            "grid_auto_flow": null,
            "grid_area": null,
            "grid_template_columns": null,
            "flex": null,
            "_model_name": "LayoutModel",
            "justify_items": null,
            "grid_row": null,
            "max_height": null,
            "align_content": null,
            "visibility": null,
            "align_self": null,
            "height": null,
            "min_height": null,
            "padding": null,
            "grid_auto_rows": null,
            "grid_gap": null,
            "max_width": null,
            "order": null,
            "_view_module_version": "1.2.0",
            "grid_template_areas": null,
            "object_position": null,
            "object_fit": null,
            "grid_auto_columns": null,
            "margin": null,
            "display": null,
            "left": null
          }
        },
        "15a23348231a475fac05d592aa72d91d": {
          "model_module": "@jupyter-widgets/controls",
          "model_name": "ImageModel",
          "state": {
            "_view_name": "ImageView",
            "_dom_classes": [],
            "_model_name": "ImageModel",
            "format": "jpeg",
            "_view_module": "@jupyter-widgets/controls",
            "_model_module_version": "1.5.0",
            "_view_count": null,
            "width": "300",
            "_view_module_version": "1.5.0",
            "layout": "IPY_MODEL_bbaeb562b4f449598100758650318dc9",
            "height": "400",
            "_model_module": "@jupyter-widgets/controls"
          }
        },
        "bbaeb562b4f449598100758650318dc9": {
          "model_module": "@jupyter-widgets/base",
          "model_name": "LayoutModel",
          "state": {
            "_view_name": "LayoutView",
            "grid_template_rows": null,
            "right": null,
            "justify_content": null,
            "_view_module": "@jupyter-widgets/base",
            "overflow": null,
            "_model_module_version": "1.2.0",
            "_view_count": null,
            "flex_flow": null,
            "width": null,
            "min_width": null,
            "border": null,
            "align_items": null,
            "bottom": null,
            "_model_module": "@jupyter-widgets/base",
            "top": null,
            "grid_column": null,
            "overflow_y": null,
            "overflow_x": null,
            "grid_auto_flow": null,
            "grid_area": null,
            "grid_template_columns": null,
            "flex": null,
            "_model_name": "LayoutModel",
            "justify_items": null,
            "grid_row": null,
            "max_height": null,
            "align_content": null,
            "visibility": null,
            "align_self": null,
            "height": null,
            "min_height": null,
            "padding": null,
            "grid_auto_rows": null,
            "grid_gap": null,
            "max_width": null,
            "order": null,
            "_view_module_version": "1.2.0",
            "grid_template_areas": null,
            "object_position": null,
            "object_fit": null,
            "grid_auto_columns": null,
            "margin": null,
            "display": null,
            "left": null
          }
        },
        "c1c2b91326dc4559b5a3dfecc35cc224": {
          "model_module": "@jupyter-widgets/controls",
          "model_name": "ImageModel",
          "state": {
            "_view_name": "ImageView",
            "_dom_classes": [],
            "_model_name": "ImageModel",
            "format": "jpeg",
            "_view_module": "@jupyter-widgets/controls",
            "_model_module_version": "1.5.0",
            "_view_count": null,
            "width": "300",
            "_view_module_version": "1.5.0",
            "layout": "IPY_MODEL_d9e5b77398cf41e89a176ad11ed4e0ae",
            "height": "400",
            "_model_module": "@jupyter-widgets/controls"
          }
        },
        "d9e5b77398cf41e89a176ad11ed4e0ae": {
          "model_module": "@jupyter-widgets/base",
          "model_name": "LayoutModel",
          "state": {
            "_view_name": "LayoutView",
            "grid_template_rows": null,
            "right": null,
            "justify_content": null,
            "_view_module": "@jupyter-widgets/base",
            "overflow": null,
            "_model_module_version": "1.2.0",
            "_view_count": null,
            "flex_flow": null,
            "width": null,
            "min_width": null,
            "border": null,
            "align_items": null,
            "bottom": null,
            "_model_module": "@jupyter-widgets/base",
            "top": null,
            "grid_column": null,
            "overflow_y": null,
            "overflow_x": null,
            "grid_auto_flow": null,
            "grid_area": null,
            "grid_template_columns": null,
            "flex": null,
            "_model_name": "LayoutModel",
            "justify_items": null,
            "grid_row": null,
            "max_height": null,
            "align_content": null,
            "visibility": null,
            "align_self": null,
            "height": null,
            "min_height": null,
            "padding": null,
            "grid_auto_rows": null,
            "grid_gap": null,
            "max_width": null,
            "order": null,
            "_view_module_version": "1.2.0",
            "grid_template_areas": null,
            "object_position": null,
            "object_fit": null,
            "grid_auto_columns": null,
            "margin": null,
            "display": null,
            "left": null
          }
        },
        "ddcba34d80b745fe9be9053e059c2c6e": {
          "model_module": "@jupyter-widgets/controls",
          "model_name": "ImageModel",
          "state": {
            "_view_name": "ImageView",
            "_dom_classes": [],
            "_model_name": "ImageModel",
            "format": "jpeg",
            "_view_module": "@jupyter-widgets/controls",
            "_model_module_version": "1.5.0",
            "_view_count": null,
            "width": "300",
            "_view_module_version": "1.5.0",
            "layout": "IPY_MODEL_29d733d059db4f4483b76dde8c82fa76",
            "height": "400",
            "_model_module": "@jupyter-widgets/controls"
          }
        },
        "29d733d059db4f4483b76dde8c82fa76": {
          "model_module": "@jupyter-widgets/base",
          "model_name": "LayoutModel",
          "state": {
            "_view_name": "LayoutView",
            "grid_template_rows": null,
            "right": null,
            "justify_content": null,
            "_view_module": "@jupyter-widgets/base",
            "overflow": null,
            "_model_module_version": "1.2.0",
            "_view_count": null,
            "flex_flow": null,
            "width": null,
            "min_width": null,
            "border": null,
            "align_items": null,
            "bottom": null,
            "_model_module": "@jupyter-widgets/base",
            "top": null,
            "grid_column": null,
            "overflow_y": null,
            "overflow_x": null,
            "grid_auto_flow": null,
            "grid_area": null,
            "grid_template_columns": null,
            "flex": null,
            "_model_name": "LayoutModel",
            "justify_items": null,
            "grid_row": null,
            "max_height": null,
            "align_content": null,
            "visibility": null,
            "align_self": null,
            "height": null,
            "min_height": null,
            "padding": null,
            "grid_auto_rows": null,
            "grid_gap": null,
            "max_width": null,
            "order": null,
            "_view_module_version": "1.2.0",
            "grid_template_areas": null,
            "object_position": null,
            "object_fit": null,
            "grid_auto_columns": null,
            "margin": null,
            "display": null,
            "left": null
          }
        },
        "a2f73591ecaa4b2caf07b8198e487b6a": {
          "model_module": "@jupyter-widgets/controls",
          "model_name": "ImageModel",
          "state": {
            "_view_name": "ImageView",
            "_dom_classes": [],
            "_model_name": "ImageModel",
            "format": "jpeg",
            "_view_module": "@jupyter-widgets/controls",
            "_model_module_version": "1.5.0",
            "_view_count": null,
            "width": "300",
            "_view_module_version": "1.5.0",
            "layout": "IPY_MODEL_06ab24a236fa4354b9abe65bd32e38e8",
            "height": "400",
            "_model_module": "@jupyter-widgets/controls"
          }
        },
        "06ab24a236fa4354b9abe65bd32e38e8": {
          "model_module": "@jupyter-widgets/base",
          "model_name": "LayoutModel",
          "state": {
            "_view_name": "LayoutView",
            "grid_template_rows": null,
            "right": null,
            "justify_content": null,
            "_view_module": "@jupyter-widgets/base",
            "overflow": null,
            "_model_module_version": "1.2.0",
            "_view_count": null,
            "flex_flow": null,
            "width": null,
            "min_width": null,
            "border": null,
            "align_items": null,
            "bottom": null,
            "_model_module": "@jupyter-widgets/base",
            "top": null,
            "grid_column": null,
            "overflow_y": null,
            "overflow_x": null,
            "grid_auto_flow": null,
            "grid_area": null,
            "grid_template_columns": null,
            "flex": null,
            "_model_name": "LayoutModel",
            "justify_items": null,
            "grid_row": null,
            "max_height": null,
            "align_content": null,
            "visibility": null,
            "align_self": null,
            "height": null,
            "min_height": null,
            "padding": null,
            "grid_auto_rows": null,
            "grid_gap": null,
            "max_width": null,
            "order": null,
            "_view_module_version": "1.2.0",
            "grid_template_areas": null,
            "object_position": null,
            "object_fit": null,
            "grid_auto_columns": null,
            "margin": null,
            "display": null,
            "left": null
          }
        },
        "8a2904a502eb4c859318daa9ae55ceee": {
          "model_module": "@jupyter-widgets/controls",
          "model_name": "ImageModel",
          "state": {
            "_view_name": "ImageView",
            "_dom_classes": [],
            "_model_name": "ImageModel",
            "format": "jpeg",
            "_view_module": "@jupyter-widgets/controls",
            "_model_module_version": "1.5.0",
            "_view_count": null,
            "width": "300",
            "_view_module_version": "1.5.0",
            "layout": "IPY_MODEL_080690a80b694c46bb6b0873288d88c2",
            "height": "400",
            "_model_module": "@jupyter-widgets/controls"
          }
        },
        "080690a80b694c46bb6b0873288d88c2": {
          "model_module": "@jupyter-widgets/base",
          "model_name": "LayoutModel",
          "state": {
            "_view_name": "LayoutView",
            "grid_template_rows": null,
            "right": null,
            "justify_content": null,
            "_view_module": "@jupyter-widgets/base",
            "overflow": null,
            "_model_module_version": "1.2.0",
            "_view_count": null,
            "flex_flow": null,
            "width": null,
            "min_width": null,
            "border": null,
            "align_items": null,
            "bottom": null,
            "_model_module": "@jupyter-widgets/base",
            "top": null,
            "grid_column": null,
            "overflow_y": null,
            "overflow_x": null,
            "grid_auto_flow": null,
            "grid_area": null,
            "grid_template_columns": null,
            "flex": null,
            "_model_name": "LayoutModel",
            "justify_items": null,
            "grid_row": null,
            "max_height": null,
            "align_content": null,
            "visibility": null,
            "align_self": null,
            "height": null,
            "min_height": null,
            "padding": null,
            "grid_auto_rows": null,
            "grid_gap": null,
            "max_width": null,
            "order": null,
            "_view_module_version": "1.2.0",
            "grid_template_areas": null,
            "object_position": null,
            "object_fit": null,
            "grid_auto_columns": null,
            "margin": null,
            "display": null,
            "left": null
          }
        },
        "33851cb61e7649469172d9fe02b697ea": {
          "model_module": "@jupyter-widgets/controls",
          "model_name": "ImageModel",
          "state": {
            "_view_name": "ImageView",
            "_dom_classes": [],
            "_model_name": "ImageModel",
            "format": "jpeg",
            "_view_module": "@jupyter-widgets/controls",
            "_model_module_version": "1.5.0",
            "_view_count": null,
            "width": "300",
            "_view_module_version": "1.5.0",
            "layout": "IPY_MODEL_e8296a48676a415b81b5339702ff8d37",
            "height": "400",
            "_model_module": "@jupyter-widgets/controls"
          }
        },
        "e8296a48676a415b81b5339702ff8d37": {
          "model_module": "@jupyter-widgets/base",
          "model_name": "LayoutModel",
          "state": {
            "_view_name": "LayoutView",
            "grid_template_rows": null,
            "right": null,
            "justify_content": null,
            "_view_module": "@jupyter-widgets/base",
            "overflow": null,
            "_model_module_version": "1.2.0",
            "_view_count": null,
            "flex_flow": null,
            "width": null,
            "min_width": null,
            "border": null,
            "align_items": null,
            "bottom": null,
            "_model_module": "@jupyter-widgets/base",
            "top": null,
            "grid_column": null,
            "overflow_y": null,
            "overflow_x": null,
            "grid_auto_flow": null,
            "grid_area": null,
            "grid_template_columns": null,
            "flex": null,
            "_model_name": "LayoutModel",
            "justify_items": null,
            "grid_row": null,
            "max_height": null,
            "align_content": null,
            "visibility": null,
            "align_self": null,
            "height": null,
            "min_height": null,
            "padding": null,
            "grid_auto_rows": null,
            "grid_gap": null,
            "max_width": null,
            "order": null,
            "_view_module_version": "1.2.0",
            "grid_template_areas": null,
            "object_position": null,
            "object_fit": null,
            "grid_auto_columns": null,
            "margin": null,
            "display": null,
            "left": null
          }
        },
        "39e574f81c4d46028bbad6995a4c6603": {
          "model_module": "@jupyter-widgets/controls",
          "model_name": "ImageModel",
          "state": {
            "_view_name": "ImageView",
            "_dom_classes": [],
            "_model_name": "ImageModel",
            "format": "jpeg",
            "_view_module": "@jupyter-widgets/controls",
            "_model_module_version": "1.5.0",
            "_view_count": null,
            "width": "300",
            "_view_module_version": "1.5.0",
            "layout": "IPY_MODEL_f8c2cca70cac4aff9bb8415a08385f8d",
            "height": "400",
            "_model_module": "@jupyter-widgets/controls"
          }
        },
        "f8c2cca70cac4aff9bb8415a08385f8d": {
          "model_module": "@jupyter-widgets/base",
          "model_name": "LayoutModel",
          "state": {
            "_view_name": "LayoutView",
            "grid_template_rows": null,
            "right": null,
            "justify_content": null,
            "_view_module": "@jupyter-widgets/base",
            "overflow": null,
            "_model_module_version": "1.2.0",
            "_view_count": null,
            "flex_flow": null,
            "width": null,
            "min_width": null,
            "border": null,
            "align_items": null,
            "bottom": null,
            "_model_module": "@jupyter-widgets/base",
            "top": null,
            "grid_column": null,
            "overflow_y": null,
            "overflow_x": null,
            "grid_auto_flow": null,
            "grid_area": null,
            "grid_template_columns": null,
            "flex": null,
            "_model_name": "LayoutModel",
            "justify_items": null,
            "grid_row": null,
            "max_height": null,
            "align_content": null,
            "visibility": null,
            "align_self": null,
            "height": null,
            "min_height": null,
            "padding": null,
            "grid_auto_rows": null,
            "grid_gap": null,
            "max_width": null,
            "order": null,
            "_view_module_version": "1.2.0",
            "grid_template_areas": null,
            "object_position": null,
            "object_fit": null,
            "grid_auto_columns": null,
            "margin": null,
            "display": null,
            "left": null
          }
        },
        "5c8e0dc8528640d6b7793fa578cbccca": {
          "model_module": "@jupyter-widgets/controls",
          "model_name": "ImageModel",
          "state": {
            "_view_name": "ImageView",
            "_dom_classes": [],
            "_model_name": "ImageModel",
            "format": "jpeg",
            "_view_module": "@jupyter-widgets/controls",
            "_model_module_version": "1.5.0",
            "_view_count": null,
            "width": "300",
            "_view_module_version": "1.5.0",
            "layout": "IPY_MODEL_7754170aebb24d10bc12b93d89103fa9",
            "height": "400",
            "_model_module": "@jupyter-widgets/controls"
          }
        },
        "7754170aebb24d10bc12b93d89103fa9": {
          "model_module": "@jupyter-widgets/base",
          "model_name": "LayoutModel",
          "state": {
            "_view_name": "LayoutView",
            "grid_template_rows": null,
            "right": null,
            "justify_content": null,
            "_view_module": "@jupyter-widgets/base",
            "overflow": null,
            "_model_module_version": "1.2.0",
            "_view_count": null,
            "flex_flow": null,
            "width": null,
            "min_width": null,
            "border": null,
            "align_items": null,
            "bottom": null,
            "_model_module": "@jupyter-widgets/base",
            "top": null,
            "grid_column": null,
            "overflow_y": null,
            "overflow_x": null,
            "grid_auto_flow": null,
            "grid_area": null,
            "grid_template_columns": null,
            "flex": null,
            "_model_name": "LayoutModel",
            "justify_items": null,
            "grid_row": null,
            "max_height": null,
            "align_content": null,
            "visibility": null,
            "align_self": null,
            "height": null,
            "min_height": null,
            "padding": null,
            "grid_auto_rows": null,
            "grid_gap": null,
            "max_width": null,
            "order": null,
            "_view_module_version": "1.2.0",
            "grid_template_areas": null,
            "object_position": null,
            "object_fit": null,
            "grid_auto_columns": null,
            "margin": null,
            "display": null,
            "left": null
          }
        },
        "5e12a0e521864df0aa6018c55faeeeb3": {
          "model_module": "@jupyter-widgets/controls",
          "model_name": "ImageModel",
          "state": {
            "_view_name": "ImageView",
            "_dom_classes": [],
            "_model_name": "ImageModel",
            "format": "jpeg",
            "_view_module": "@jupyter-widgets/controls",
            "_model_module_version": "1.5.0",
            "_view_count": null,
            "width": "300",
            "_view_module_version": "1.5.0",
            "layout": "IPY_MODEL_37c51bd3ccd541bc8e6ba540d149883f",
            "height": "400",
            "_model_module": "@jupyter-widgets/controls"
          }
        },
        "37c51bd3ccd541bc8e6ba540d149883f": {
          "model_module": "@jupyter-widgets/base",
          "model_name": "LayoutModel",
          "state": {
            "_view_name": "LayoutView",
            "grid_template_rows": null,
            "right": null,
            "justify_content": null,
            "_view_module": "@jupyter-widgets/base",
            "overflow": null,
            "_model_module_version": "1.2.0",
            "_view_count": null,
            "flex_flow": null,
            "width": null,
            "min_width": null,
            "border": null,
            "align_items": null,
            "bottom": null,
            "_model_module": "@jupyter-widgets/base",
            "top": null,
            "grid_column": null,
            "overflow_y": null,
            "overflow_x": null,
            "grid_auto_flow": null,
            "grid_area": null,
            "grid_template_columns": null,
            "flex": null,
            "_model_name": "LayoutModel",
            "justify_items": null,
            "grid_row": null,
            "max_height": null,
            "align_content": null,
            "visibility": null,
            "align_self": null,
            "height": null,
            "min_height": null,
            "padding": null,
            "grid_auto_rows": null,
            "grid_gap": null,
            "max_width": null,
            "order": null,
            "_view_module_version": "1.2.0",
            "grid_template_areas": null,
            "object_position": null,
            "object_fit": null,
            "grid_auto_columns": null,
            "margin": null,
            "display": null,
            "left": null
          }
        },
        "e8ec6edeb7a14d008087596ed9d0f5c3": {
          "model_module": "@jupyter-widgets/controls",
          "model_name": "ImageModel",
          "state": {
            "_view_name": "ImageView",
            "_dom_classes": [],
            "_model_name": "ImageModel",
            "format": "jpeg",
            "_view_module": "@jupyter-widgets/controls",
            "_model_module_version": "1.5.0",
            "_view_count": null,
            "width": "300",
            "_view_module_version": "1.5.0",
            "layout": "IPY_MODEL_04f6622a7cdf455190f64bf7824ec3e6",
            "height": "400",
            "_model_module": "@jupyter-widgets/controls"
          }
        },
        "04f6622a7cdf455190f64bf7824ec3e6": {
          "model_module": "@jupyter-widgets/base",
          "model_name": "LayoutModel",
          "state": {
            "_view_name": "LayoutView",
            "grid_template_rows": null,
            "right": null,
            "justify_content": null,
            "_view_module": "@jupyter-widgets/base",
            "overflow": null,
            "_model_module_version": "1.2.0",
            "_view_count": null,
            "flex_flow": null,
            "width": null,
            "min_width": null,
            "border": null,
            "align_items": null,
            "bottom": null,
            "_model_module": "@jupyter-widgets/base",
            "top": null,
            "grid_column": null,
            "overflow_y": null,
            "overflow_x": null,
            "grid_auto_flow": null,
            "grid_area": null,
            "grid_template_columns": null,
            "flex": null,
            "_model_name": "LayoutModel",
            "justify_items": null,
            "grid_row": null,
            "max_height": null,
            "align_content": null,
            "visibility": null,
            "align_self": null,
            "height": null,
            "min_height": null,
            "padding": null,
            "grid_auto_rows": null,
            "grid_gap": null,
            "max_width": null,
            "order": null,
            "_view_module_version": "1.2.0",
            "grid_template_areas": null,
            "object_position": null,
            "object_fit": null,
            "grid_auto_columns": null,
            "margin": null,
            "display": null,
            "left": null
          }
        },
        "ce02ef9085174a8b931666c4d67ffb16": {
          "model_module": "@jupyter-widgets/controls",
          "model_name": "ImageModel",
          "state": {
            "_view_name": "ImageView",
            "_dom_classes": [],
            "_model_name": "ImageModel",
            "format": "jpeg",
            "_view_module": "@jupyter-widgets/controls",
            "_model_module_version": "1.5.0",
            "_view_count": null,
            "width": "300",
            "_view_module_version": "1.5.0",
            "layout": "IPY_MODEL_2b349a1c603d46a48eae4367c66495de",
            "height": "400",
            "_model_module": "@jupyter-widgets/controls"
          }
        },
        "2b349a1c603d46a48eae4367c66495de": {
          "model_module": "@jupyter-widgets/base",
          "model_name": "LayoutModel",
          "state": {
            "_view_name": "LayoutView",
            "grid_template_rows": null,
            "right": null,
            "justify_content": null,
            "_view_module": "@jupyter-widgets/base",
            "overflow": null,
            "_model_module_version": "1.2.0",
            "_view_count": null,
            "flex_flow": null,
            "width": null,
            "min_width": null,
            "border": null,
            "align_items": null,
            "bottom": null,
            "_model_module": "@jupyter-widgets/base",
            "top": null,
            "grid_column": null,
            "overflow_y": null,
            "overflow_x": null,
            "grid_auto_flow": null,
            "grid_area": null,
            "grid_template_columns": null,
            "flex": null,
            "_model_name": "LayoutModel",
            "justify_items": null,
            "grid_row": null,
            "max_height": null,
            "align_content": null,
            "visibility": null,
            "align_self": null,
            "height": null,
            "min_height": null,
            "padding": null,
            "grid_auto_rows": null,
            "grid_gap": null,
            "max_width": null,
            "order": null,
            "_view_module_version": "1.2.0",
            "grid_template_areas": null,
            "object_position": null,
            "object_fit": null,
            "grid_auto_columns": null,
            "margin": null,
            "display": null,
            "left": null
          }
        },
        "da42b58d7d80435290c9c40c352aa255": {
          "model_module": "@jupyter-widgets/controls",
          "model_name": "ImageModel",
          "state": {
            "_view_name": "ImageView",
            "_dom_classes": [],
            "_model_name": "ImageModel",
            "format": "jpeg",
            "_view_module": "@jupyter-widgets/controls",
            "_model_module_version": "1.5.0",
            "_view_count": null,
            "width": "300",
            "_view_module_version": "1.5.0",
            "layout": "IPY_MODEL_c9e4d36ae025456887bdcfed8d7a01f4",
            "height": "400",
            "_model_module": "@jupyter-widgets/controls"
          }
        },
        "c9e4d36ae025456887bdcfed8d7a01f4": {
          "model_module": "@jupyter-widgets/base",
          "model_name": "LayoutModel",
          "state": {
            "_view_name": "LayoutView",
            "grid_template_rows": null,
            "right": null,
            "justify_content": null,
            "_view_module": "@jupyter-widgets/base",
            "overflow": null,
            "_model_module_version": "1.2.0",
            "_view_count": null,
            "flex_flow": null,
            "width": null,
            "min_width": null,
            "border": null,
            "align_items": null,
            "bottom": null,
            "_model_module": "@jupyter-widgets/base",
            "top": null,
            "grid_column": null,
            "overflow_y": null,
            "overflow_x": null,
            "grid_auto_flow": null,
            "grid_area": null,
            "grid_template_columns": null,
            "flex": null,
            "_model_name": "LayoutModel",
            "justify_items": null,
            "grid_row": null,
            "max_height": null,
            "align_content": null,
            "visibility": null,
            "align_self": null,
            "height": null,
            "min_height": null,
            "padding": null,
            "grid_auto_rows": null,
            "grid_gap": null,
            "max_width": null,
            "order": null,
            "_view_module_version": "1.2.0",
            "grid_template_areas": null,
            "object_position": null,
            "object_fit": null,
            "grid_auto_columns": null,
            "margin": null,
            "display": null,
            "left": null
          }
        },
        "8a16451f53044ab586fddae5a17dc998": {
          "model_module": "@jupyter-widgets/controls",
          "model_name": "ImageModel",
          "state": {
            "_view_name": "ImageView",
            "_dom_classes": [],
            "_model_name": "ImageModel",
            "format": "jpeg",
            "_view_module": "@jupyter-widgets/controls",
            "_model_module_version": "1.5.0",
            "_view_count": null,
            "width": "300",
            "_view_module_version": "1.5.0",
            "layout": "IPY_MODEL_0a67cb42f52743cf8242a5776f56e2d8",
            "height": "400",
            "_model_module": "@jupyter-widgets/controls"
          }
        },
        "0a67cb42f52743cf8242a5776f56e2d8": {
          "model_module": "@jupyter-widgets/base",
          "model_name": "LayoutModel",
          "state": {
            "_view_name": "LayoutView",
            "grid_template_rows": null,
            "right": null,
            "justify_content": null,
            "_view_module": "@jupyter-widgets/base",
            "overflow": null,
            "_model_module_version": "1.2.0",
            "_view_count": null,
            "flex_flow": null,
            "width": null,
            "min_width": null,
            "border": null,
            "align_items": null,
            "bottom": null,
            "_model_module": "@jupyter-widgets/base",
            "top": null,
            "grid_column": null,
            "overflow_y": null,
            "overflow_x": null,
            "grid_auto_flow": null,
            "grid_area": null,
            "grid_template_columns": null,
            "flex": null,
            "_model_name": "LayoutModel",
            "justify_items": null,
            "grid_row": null,
            "max_height": null,
            "align_content": null,
            "visibility": null,
            "align_self": null,
            "height": null,
            "min_height": null,
            "padding": null,
            "grid_auto_rows": null,
            "grid_gap": null,
            "max_width": null,
            "order": null,
            "_view_module_version": "1.2.0",
            "grid_template_areas": null,
            "object_position": null,
            "object_fit": null,
            "grid_auto_columns": null,
            "margin": null,
            "display": null,
            "left": null
          }
        },
        "fb9084df8aa9446cb91510848f5ddff4": {
          "model_module": "@jupyter-widgets/controls",
          "model_name": "ImageModel",
          "state": {
            "_view_name": "ImageView",
            "_dom_classes": [],
            "_model_name": "ImageModel",
            "format": "jpeg",
            "_view_module": "@jupyter-widgets/controls",
            "_model_module_version": "1.5.0",
            "_view_count": null,
            "width": "300",
            "_view_module_version": "1.5.0",
            "layout": "IPY_MODEL_37e15b85209747bcb80a49a81df69e02",
            "height": "400",
            "_model_module": "@jupyter-widgets/controls"
          }
        },
        "37e15b85209747bcb80a49a81df69e02": {
          "model_module": "@jupyter-widgets/base",
          "model_name": "LayoutModel",
          "state": {
            "_view_name": "LayoutView",
            "grid_template_rows": null,
            "right": null,
            "justify_content": null,
            "_view_module": "@jupyter-widgets/base",
            "overflow": null,
            "_model_module_version": "1.2.0",
            "_view_count": null,
            "flex_flow": null,
            "width": null,
            "min_width": null,
            "border": null,
            "align_items": null,
            "bottom": null,
            "_model_module": "@jupyter-widgets/base",
            "top": null,
            "grid_column": null,
            "overflow_y": null,
            "overflow_x": null,
            "grid_auto_flow": null,
            "grid_area": null,
            "grid_template_columns": null,
            "flex": null,
            "_model_name": "LayoutModel",
            "justify_items": null,
            "grid_row": null,
            "max_height": null,
            "align_content": null,
            "visibility": null,
            "align_self": null,
            "height": null,
            "min_height": null,
            "padding": null,
            "grid_auto_rows": null,
            "grid_gap": null,
            "max_width": null,
            "order": null,
            "_view_module_version": "1.2.0",
            "grid_template_areas": null,
            "object_position": null,
            "object_fit": null,
            "grid_auto_columns": null,
            "margin": null,
            "display": null,
            "left": null
          }
        },
        "013f494528134739b864976b3617cc86": {
          "model_module": "@jupyter-widgets/controls",
          "model_name": "ImageModel",
          "state": {
            "_view_name": "ImageView",
            "_dom_classes": [],
            "_model_name": "ImageModel",
            "format": "jpeg",
            "_view_module": "@jupyter-widgets/controls",
            "_model_module_version": "1.5.0",
            "_view_count": null,
            "width": "300",
            "_view_module_version": "1.5.0",
            "layout": "IPY_MODEL_d54d845fd92b4bb6a95ec422ca9d54ad",
            "height": "400",
            "_model_module": "@jupyter-widgets/controls"
          }
        },
        "d54d845fd92b4bb6a95ec422ca9d54ad": {
          "model_module": "@jupyter-widgets/base",
          "model_name": "LayoutModel",
          "state": {
            "_view_name": "LayoutView",
            "grid_template_rows": null,
            "right": null,
            "justify_content": null,
            "_view_module": "@jupyter-widgets/base",
            "overflow": null,
            "_model_module_version": "1.2.0",
            "_view_count": null,
            "flex_flow": null,
            "width": null,
            "min_width": null,
            "border": null,
            "align_items": null,
            "bottom": null,
            "_model_module": "@jupyter-widgets/base",
            "top": null,
            "grid_column": null,
            "overflow_y": null,
            "overflow_x": null,
            "grid_auto_flow": null,
            "grid_area": null,
            "grid_template_columns": null,
            "flex": null,
            "_model_name": "LayoutModel",
            "justify_items": null,
            "grid_row": null,
            "max_height": null,
            "align_content": null,
            "visibility": null,
            "align_self": null,
            "height": null,
            "min_height": null,
            "padding": null,
            "grid_auto_rows": null,
            "grid_gap": null,
            "max_width": null,
            "order": null,
            "_view_module_version": "1.2.0",
            "grid_template_areas": null,
            "object_position": null,
            "object_fit": null,
            "grid_auto_columns": null,
            "margin": null,
            "display": null,
            "left": null
          }
        },
        "929c7c6be99e47d5807bffe0e0bd32e2": {
          "model_module": "@jupyter-widgets/controls",
          "model_name": "ImageModel",
          "state": {
            "_view_name": "ImageView",
            "_dom_classes": [],
            "_model_name": "ImageModel",
            "format": "jpeg",
            "_view_module": "@jupyter-widgets/controls",
            "_model_module_version": "1.5.0",
            "_view_count": null,
            "width": "300",
            "_view_module_version": "1.5.0",
            "layout": "IPY_MODEL_6226e62a80cb4a98a10c75a7cbe11deb",
            "height": "400",
            "_model_module": "@jupyter-widgets/controls"
          }
        },
        "6226e62a80cb4a98a10c75a7cbe11deb": {
          "model_module": "@jupyter-widgets/base",
          "model_name": "LayoutModel",
          "state": {
            "_view_name": "LayoutView",
            "grid_template_rows": null,
            "right": null,
            "justify_content": null,
            "_view_module": "@jupyter-widgets/base",
            "overflow": null,
            "_model_module_version": "1.2.0",
            "_view_count": null,
            "flex_flow": null,
            "width": null,
            "min_width": null,
            "border": null,
            "align_items": null,
            "bottom": null,
            "_model_module": "@jupyter-widgets/base",
            "top": null,
            "grid_column": null,
            "overflow_y": null,
            "overflow_x": null,
            "grid_auto_flow": null,
            "grid_area": null,
            "grid_template_columns": null,
            "flex": null,
            "_model_name": "LayoutModel",
            "justify_items": null,
            "grid_row": null,
            "max_height": null,
            "align_content": null,
            "visibility": null,
            "align_self": null,
            "height": null,
            "min_height": null,
            "padding": null,
            "grid_auto_rows": null,
            "grid_gap": null,
            "max_width": null,
            "order": null,
            "_view_module_version": "1.2.0",
            "grid_template_areas": null,
            "object_position": null,
            "object_fit": null,
            "grid_auto_columns": null,
            "margin": null,
            "display": null,
            "left": null
          }
        },
        "4f61b2b3b9ad4474a069a1edc9f804c3": {
          "model_module": "@jupyter-widgets/controls",
          "model_name": "ImageModel",
          "state": {
            "_view_name": "ImageView",
            "_dom_classes": [],
            "_model_name": "ImageModel",
            "format": "jpeg",
            "_view_module": "@jupyter-widgets/controls",
            "_model_module_version": "1.5.0",
            "_view_count": null,
            "width": "300",
            "_view_module_version": "1.5.0",
            "layout": "IPY_MODEL_0f3eefd7d56c4208afcdc005ad303927",
            "height": "400",
            "_model_module": "@jupyter-widgets/controls"
          }
        },
        "0f3eefd7d56c4208afcdc005ad303927": {
          "model_module": "@jupyter-widgets/base",
          "model_name": "LayoutModel",
          "state": {
            "_view_name": "LayoutView",
            "grid_template_rows": null,
            "right": null,
            "justify_content": null,
            "_view_module": "@jupyter-widgets/base",
            "overflow": null,
            "_model_module_version": "1.2.0",
            "_view_count": null,
            "flex_flow": null,
            "width": null,
            "min_width": null,
            "border": null,
            "align_items": null,
            "bottom": null,
            "_model_module": "@jupyter-widgets/base",
            "top": null,
            "grid_column": null,
            "overflow_y": null,
            "overflow_x": null,
            "grid_auto_flow": null,
            "grid_area": null,
            "grid_template_columns": null,
            "flex": null,
            "_model_name": "LayoutModel",
            "justify_items": null,
            "grid_row": null,
            "max_height": null,
            "align_content": null,
            "visibility": null,
            "align_self": null,
            "height": null,
            "min_height": null,
            "padding": null,
            "grid_auto_rows": null,
            "grid_gap": null,
            "max_width": null,
            "order": null,
            "_view_module_version": "1.2.0",
            "grid_template_areas": null,
            "object_position": null,
            "object_fit": null,
            "grid_auto_columns": null,
            "margin": null,
            "display": null,
            "left": null
          }
        },
        "ddd7075c746f486f81ffb637022ad71c": {
          "model_module": "@jupyter-widgets/controls",
          "model_name": "ImageModel",
          "state": {
            "_view_name": "ImageView",
            "_dom_classes": [],
            "_model_name": "ImageModel",
            "format": "jpeg",
            "_view_module": "@jupyter-widgets/controls",
            "_model_module_version": "1.5.0",
            "_view_count": null,
            "width": "300",
            "_view_module_version": "1.5.0",
            "layout": "IPY_MODEL_3d6740eea6e24b47b904470e299da42b",
            "height": "400",
            "_model_module": "@jupyter-widgets/controls"
          }
        },
        "3d6740eea6e24b47b904470e299da42b": {
          "model_module": "@jupyter-widgets/base",
          "model_name": "LayoutModel",
          "state": {
            "_view_name": "LayoutView",
            "grid_template_rows": null,
            "right": null,
            "justify_content": null,
            "_view_module": "@jupyter-widgets/base",
            "overflow": null,
            "_model_module_version": "1.2.0",
            "_view_count": null,
            "flex_flow": null,
            "width": null,
            "min_width": null,
            "border": null,
            "align_items": null,
            "bottom": null,
            "_model_module": "@jupyter-widgets/base",
            "top": null,
            "grid_column": null,
            "overflow_y": null,
            "overflow_x": null,
            "grid_auto_flow": null,
            "grid_area": null,
            "grid_template_columns": null,
            "flex": null,
            "_model_name": "LayoutModel",
            "justify_items": null,
            "grid_row": null,
            "max_height": null,
            "align_content": null,
            "visibility": null,
            "align_self": null,
            "height": null,
            "min_height": null,
            "padding": null,
            "grid_auto_rows": null,
            "grid_gap": null,
            "max_width": null,
            "order": null,
            "_view_module_version": "1.2.0",
            "grid_template_areas": null,
            "object_position": null,
            "object_fit": null,
            "grid_auto_columns": null,
            "margin": null,
            "display": null,
            "left": null
          }
        },
        "408857b07a084ccca1d8f39736db4155": {
          "model_module": "@jupyter-widgets/controls",
          "model_name": "ImageModel",
          "state": {
            "_view_name": "ImageView",
            "_dom_classes": [],
            "_model_name": "ImageModel",
            "format": "jpeg",
            "_view_module": "@jupyter-widgets/controls",
            "_model_module_version": "1.5.0",
            "_view_count": null,
            "width": "300",
            "_view_module_version": "1.5.0",
            "layout": "IPY_MODEL_7728deec67bb4aabb5981d6ba2b233b4",
            "height": "400",
            "_model_module": "@jupyter-widgets/controls"
          }
        },
        "7728deec67bb4aabb5981d6ba2b233b4": {
          "model_module": "@jupyter-widgets/base",
          "model_name": "LayoutModel",
          "state": {
            "_view_name": "LayoutView",
            "grid_template_rows": null,
            "right": null,
            "justify_content": null,
            "_view_module": "@jupyter-widgets/base",
            "overflow": null,
            "_model_module_version": "1.2.0",
            "_view_count": null,
            "flex_flow": null,
            "width": null,
            "min_width": null,
            "border": null,
            "align_items": null,
            "bottom": null,
            "_model_module": "@jupyter-widgets/base",
            "top": null,
            "grid_column": null,
            "overflow_y": null,
            "overflow_x": null,
            "grid_auto_flow": null,
            "grid_area": null,
            "grid_template_columns": null,
            "flex": null,
            "_model_name": "LayoutModel",
            "justify_items": null,
            "grid_row": null,
            "max_height": null,
            "align_content": null,
            "visibility": null,
            "align_self": null,
            "height": null,
            "min_height": null,
            "padding": null,
            "grid_auto_rows": null,
            "grid_gap": null,
            "max_width": null,
            "order": null,
            "_view_module_version": "1.2.0",
            "grid_template_areas": null,
            "object_position": null,
            "object_fit": null,
            "grid_auto_columns": null,
            "margin": null,
            "display": null,
            "left": null
          }
        }
      }
    }
  },
  "cells": [
    {
      "cell_type": "markdown",
      "metadata": {
        "id": "view-in-github",
        "colab_type": "text"
      },
      "source": [
        "<a href=\"https://colab.research.google.com/github/seraogianluca/mircv-exercises/blob/main/Exercise3.ipynb\" target=\"_parent\"><img src=\"https://colab.research.google.com/assets/colab-badge.svg\" alt=\"Open In Colab\"/></a>"
      ]
    },
    {
      "cell_type": "code",
      "metadata": {
        "id": "L5g92qt8mz9t",
        "outputId": "198d81f3-f6e7-4337-cf87-969b2b5e13bd",
        "colab": {
          "base_uri": "https://localhost:8080/"
        }
      },
      "source": [
        "#MIRCV 2021\n",
        "from google.colab import drive\n",
        "drive.mount('/content/gdrive')"
      ],
      "execution_count": 1,
      "outputs": [
        {
          "output_type": "stream",
          "text": [
            "Drive already mounted at /content/gdrive; to attempt to forcibly remount, call drive.mount(\"/content/gdrive\", force_remount=True).\n"
          ],
          "name": "stdout"
        }
      ]
    },
    {
      "cell_type": "code",
      "metadata": {
        "id": "BsEAI3i2uKw9",
        "outputId": "553f94d0-774b-44fd-c22a-c7529b2c05ef",
        "colab": {
          "base_uri": "https://localhost:8080/"
        }
      },
      "source": [
        "#To support GPU\n",
        "!pip install opencv-python==4.4.0.46\n",
        "!pip install whoosh"
      ],
      "execution_count": 2,
      "outputs": [
        {
          "output_type": "stream",
          "text": [
            "Requirement already satisfied: opencv-python==4.4.0.46 in /usr/local/lib/python3.6/dist-packages (4.4.0.46)\n",
            "Requirement already satisfied: numpy>=1.13.3 in /usr/local/lib/python3.6/dist-packages (from opencv-python==4.4.0.46) (1.18.5)\n",
            "Requirement already satisfied: whoosh in /usr/local/lib/python3.6/dist-packages (2.7.4)\n"
          ],
          "name": "stdout"
        }
      ]
    },
    {
      "cell_type": "code",
      "metadata": {
        "id": "nwty214imna5"
      },
      "source": [
        "import cv2\n",
        "import numpy as np\n",
        "import os\n",
        "import operator\n",
        "\n",
        "from whoosh import index\n",
        "from whoosh.fields import *\n",
        "from whoosh.analysis import *\n",
        "from whoosh import qparser\n",
        "\n",
        "# for showing images in the cell outputs (Jupyter Notebooks / Google Colab)\n",
        "from IPython.display import display\n",
        "from ipywidgets import Image\n",
        "\n",
        "from tqdm.notebook import tqdm\n",
        "\n",
        "np.random.seed(42)  # makes the random pivot choice reproducible\n",
        "\n",
        "BASE_DIR = '/content/gdrive/My Drive/mircv2021'\n",
        "DEEP_PROTO = BASE_DIR + '/data/caffe/train_val.prototxt'\n",
        "DEEP_MODEL = BASE_DIR + '/data/caffe/bvlc_reference_caffenet.caffemodel'\n",
        "SRC_FOLDER = BASE_DIR + '/data/coco_img'\n",
        "OUT_FOLDER = BASE_DIR + '/out'\n",
        "WHOOSH_FOLDER = OUT_FOLDER + '/whoosh'\n",
        "PIVOTS_FILE = OUT_FOLDER + '/pivots.txt.gz'\n",
        "PIVOTS_ID_FILE = OUT_FOLDER + '/pivot_ids.txt'\n",
        "\n",
        "IMAGE_ID_FILE = OUT_FOLDER + '/image_ids.txt'\n",
        "FEATURES_FILE = OUT_FOLDER + '/extracted_features.txt.gz'\n",
        "\n",
        "if not os.path.exists(OUT_FOLDER):\n",
        "    os.mkdir(OUT_FOLDER)\n",
        "if not os.path.exists(WHOOSH_FOLDER):\n",
        "    os.mkdir(WHOOSH_FOLDER)\n",
        "\n",
        "DEEP_LAYER = 'relu7'\n",
        "SIZE = (227, 227)\n",
        "MEAN_VALUES = (104, 117, 123)  # BGR\n",
        "\n",
        "NUM_PIVOTS = 100\n",
        "INDEX_FIELD = 'deep'\n",
        "KX = 10\n",
        "KQ = 10\n",
        "\n",
        "K = 8"
      ],
      "execution_count": 3,
      "outputs": []
    },
    {
      "cell_type": "code",
      "metadata": {
        "id": "OfZNoShQmna_"
      },
      "source": [
        "class DNNExtractor:    \n",
        "    \n",
        "    def __init__(self, net_proto_path, trained_model_path, size, mean_values=None):\n",
        "        self.size = size\n",
        "        self.mean_values = mean_values\n",
        "\n",
        "        self.net = cv2.dnn.readNetFromCaffe(net_proto_path, trained_model_path)\n",
        "        # to enable GPU (this won't work on Colab without recompiling opencv)\n",
        "        self.net.setPreferableBackend(cv2.dnn.DNN_BACKEND_CUDA)\n",
        "        self.net.setPreferableTarget(cv2.dnn.DNN_TARGET_CUDA)\n",
        "        \n",
        "    \n",
        "    def extract(self, img_file, layer, normalize=False):\n",
        "        img = cv2.imread(img_file)\n",
        "        blob = cv2.dnn.blobFromImage(img, 1.0, self.size, self.mean_values, swapRB=False, crop=False)\n",
        "        self.net.setInput(blob)\n",
        "        prob = self.net.forward(layer).flatten()\n",
        "\n",
        "        if normalize:\n",
        "            prob /= np.linalg.norm(prob)\n",
        "\n",
        "        return prob\n",
        "    \n",
        "# it creates an instance of the DNNExtractor class\n",
        "dnn = DNNExtractor(DEEP_PROTO, DEEP_MODEL, SIZE, MEAN_VALUES)"
      ],
      "execution_count": 4,
      "outputs": []
    },
    {
      "cell_type": "code",
      "metadata": {
        "id": "gG1r38EWmnbC"
      },
      "source": [
        "def extract_features(img_folder):\n",
        "    # get the list of image filenames\n",
        "    filenames = [f for f in os.listdir(img_folder)]\n",
        "\n",
        "    descriptors = [dnn.extract(os.path.join(SRC_FOLDER, f),\n",
        "                               DEEP_LAYER, normalize=True) for f in tqdm(filenames)]\n",
        "\n",
        "    descriptors = np.array(descriptors)\n",
        "    filenames = np.array(filenames)\n",
        "    \n",
        "    return descriptors, filenames\n",
        "\n",
        "# compute and cache features\n",
        "if not os.path.exists(FEATURES_FILE):\n",
        "    descriptors, ids = extract_features(SRC_FOLDER)\n",
        "    np.savetxt(IMAGE_ID_FILE, ids, fmt='%s')\n",
        "    np.savetxt(FEATURES_FILE, descriptors)\n",
        "\n",
        "ids = np.loadtxt(IMAGE_ID_FILE, dtype='str')\n",
        "descriptors = np.loadtxt(FEATURES_FILE)"
      ],
      "execution_count": 5,
      "outputs": []
    },
    {
      "cell_type": "code",
      "metadata": {
        "id": "ZEYaHGq3M9yY"
      },
      "source": [
        "#TODO: STEP 0\n",
        "\n",
        "#make pivots\n",
        "# get NUM_PIVOTS integers between 0 and len(descriptors)-1 without repetitions\n",
        "# use the pivot array indices as pivot ids\n",
        "if not os.path.exists(PIVOTS_FILE):\n",
        "  sample = np.random.choice(len(descriptors)-1, size=NUM_PIVOTS, replace=False)\n",
        "  pivots = [descriptors[sample[i]] for i in range(len(sample))]\n",
        "  pivot_ids = np.arange(NUM_PIVOTS)\n",
        "\n",
        "  np.savetxt(PIVOTS_FILE, pivots)\n",
        "  np.savetxt(PIVOTS_ID_FILE, pivot_ids)\n"
      ],
      "execution_count": 6,
      "outputs": []
    },
    {
      "cell_type": "code",
      "metadata": {
        "id": "s7vrJxOSmnbH"
      },
      "source": [
        "#TODO: STEP 1\n",
        "\n",
        "pivots = np.loadtxt(PIVOTS_FILE)\n",
        "pivot_ids = np.loadtxt(PIVOTS_ID_FILE)\n",
        "\n",
        "\n",
        "def search(queryF, dataset, ids, k):\n",
        "    cos_similarities = np.dot(dataset, queryF)\n",
        "    result = zip(cos_similarities, ids)\n",
        "    res = sorted(result, reverse=True)[:k]\n",
        "    return res\n",
        "\n",
        "#use pivots to transform features to Surrogare Text Representation (STR)\n",
        "def features_2_text(img_f, top_k):\n",
        "  #generate and return the STR of the img_f feature.\n",
        "  #use the search function to retrieve the top_k nearest neighbor pivots\n",
        "  res = search(img_f,pivots,pivot_ids,top_k)\n",
        "  img_str = \"\"\n",
        "  for _,id in res:\n",
        "    img_str = img_str + str(int(id))*top_k + \" \"\n",
        "    top_k -= 1\n",
        "  return img_str"
      ],
      "execution_count": 7,
      "outputs": []
    },
    {
      "cell_type": "code",
      "metadata": {
        "id": "SELjcjCFztCQ",
        "outputId": "46bd6a87-fc2b-484b-fd4b-f150230a7618",
        "colab": {
          "base_uri": "https://localhost:8080/"
        }
      },
      "source": [
        "#TODO: STEP 2\n",
        "\n",
        "#Whoosh indexing\n",
        "#Initialize the Whoosh index (see Exercise1)\n",
        "#call features_2_text to transform the image features to STR\n",
        "#index the STR of all images into the Whoosh index\n",
        "\n",
        "schema = Schema(desc=TEXT(analyzer=KeywordAnalyzer(), vector=True, stored=True),\n",
        "                id=ID(stored=True))\n",
        "ix = index.create_in(WHOOSH_FOLDER, schema)\n",
        "print('creating index...')\n",
        "\n",
        "writer = ix.writer()\n",
        "\n",
        "for descriptor,id in zip(descriptors,ids):\n",
        "  img = features_2_text(descriptor, KX)\n",
        "  writer.add_document(desc=img, id=id)\n",
        "\n",
        "writer.commit()\n",
        "print('indexing done ')\n"
      ],
      "execution_count": 8,
      "outputs": [
        {
          "output_type": "stream",
          "text": [
            "creating index...\n",
            "indexing done \n"
          ],
          "name": "stdout"
        }
      ]
    },
    {
      "cell_type": "code",
      "metadata": {
        "id": "6E0WFTa8akEj"
      },
      "source": [
        "def display_image(filename, score=0):\n",
        "    \"\"\" Displays an image and its corresponding score (optional)\n",
        "        in Jupyter Notebook / Google Colab\n",
        "    \"\"\"\n",
        "    filepath = os.path.join(SRC_FOLDER , filename)\n",
        "    image = Image.from_file(filepath, width=300, height=400)\n",
        "    print('{} - {:.3f}'.format(filename, score))  # :.3f = 3-decimal float\n",
        "    display(image)\n",
        "\n",
        "\n",
        "def display_results(results):\n",
        "    \"\"\" Displays a set of results. Takes a list of (score, id) couples \"\"\"\n",
        "    for score, filename in results:\n",
        "        display_image(filename, score)"
      ],
      "execution_count": 9,
      "outputs": []
    },
    {
      "cell_type": "code",
      "metadata": {
        "id": "-fZ3tNITzxCz",
        "outputId": "e1cf5f49-035d-4ca1-b441-b30372a8e3d5",
        "colab": {
          "base_uri": "https://localhost:8080/",
          "height": 1000,
          "referenced_widgets": [
            "2e4c81d41a774a4f8496c27dcdcca0c3",
            "c018f7aab06e45269d9a89fb805cccda",
            "15a23348231a475fac05d592aa72d91d",
            "bbaeb562b4f449598100758650318dc9",
            "c1c2b91326dc4559b5a3dfecc35cc224",
            "d9e5b77398cf41e89a176ad11ed4e0ae",
            "ddcba34d80b745fe9be9053e059c2c6e",
            "29d733d059db4f4483b76dde8c82fa76",
            "a2f73591ecaa4b2caf07b8198e487b6a",
            "06ab24a236fa4354b9abe65bd32e38e8",
            "8a2904a502eb4c859318daa9ae55ceee",
            "080690a80b694c46bb6b0873288d88c2",
            "33851cb61e7649469172d9fe02b697ea",
            "e8296a48676a415b81b5339702ff8d37",
            "39e574f81c4d46028bbad6995a4c6603",
            "f8c2cca70cac4aff9bb8415a08385f8d",
            "5c8e0dc8528640d6b7793fa578cbccca",
            "7754170aebb24d10bc12b93d89103fa9",
            "5e12a0e521864df0aa6018c55faeeeb3",
            "37c51bd3ccd541bc8e6ba540d149883f"
          ]
        }
      },
      "source": [
        "#TODO: STEP 3\n",
        "\n",
        "#Whoosh searching\n",
        "#Extract the features of img_query.\n",
        "#Transform the features to STR\n",
        "#Perform a Whoosh search and call display_results to show the search results\n",
        "#initialize whoosh searcher\n",
        "\n",
        "img_query = SRC_FOLDER + \"/000000321557.jpg\"\n",
        "img = dnn.extract(img_query,DEEP_LAYER, normalize=True)\n",
        "query_str = features_2_text(img,KQ)\n",
        "\n",
        "searcher = ix.searcher()\n",
        "parser = qparser.QueryParser('desc',ix.schema, group=qparser.OrGroup)\n",
        "txt_query = parser.parse(query_str)\n",
        "res = searcher.search(txt_query)\n",
        "\n",
        "results = []\n",
        "for hit in res:\n",
        "  results.append((hit.score,hit['id']))\n",
        "display_results(results)\n"
      ],
      "execution_count": 10,
      "outputs": [
        {
          "output_type": "stream",
          "text": [
            "000000321557.jpg - 57.163\n"
          ],
          "name": "stdout"
        },
        {
          "output_type": "display_data",
          "data": {
            "application/vnd.jupyter.widget-view+json": {
              "model_id": "2e4c81d41a774a4f8496c27dcdcca0c3",
              "version_minor": 0,
              "version_major": 2
            },
            "text/plain": [
              "Image(value=b'\\xff\\xd8\\xff\\xe0\\x00\\x10JFIF\\x00\\x01\\x01\\x01\\x00H\\x00H\\x00\\x00\\xff\\xdb\\x00C\\x00\\x01\\x01\\x01\\x01\\…"
            ]
          },
          "metadata": {
            "tags": []
          }
        },
        {
          "output_type": "stream",
          "text": [
            "000000038829.jpg - 16.594\n"
          ],
          "name": "stdout"
        },
        {
          "output_type": "display_data",
          "data": {
            "application/vnd.jupyter.widget-view+json": {
              "model_id": "15a23348231a475fac05d592aa72d91d",
              "version_minor": 0,
              "version_major": 2
            },
            "text/plain": [
              "Image(value=b'\\xff\\xd8\\xff\\xe0\\x00\\x10JFIF\\x00\\x01\\x01\\x01\\x00H\\x00H\\x00\\x00\\xff\\xdb\\x00C\\x00\\x01\\x01\\x01\\x01\\…"
            ]
          },
          "metadata": {
            "tags": []
          }
        },
        {
          "output_type": "stream",
          "text": [
            "000000297147.jpg - 12.483\n"
          ],
          "name": "stdout"
        },
        {
          "output_type": "display_data",
          "data": {
            "application/vnd.jupyter.widget-view+json": {
              "model_id": "c1c2b91326dc4559b5a3dfecc35cc224",
              "version_minor": 0,
              "version_major": 2
            },
            "text/plain": [
              "Image(value=b'\\xff\\xd8\\xff\\xe0\\x00\\x10JFIF\\x00\\x01\\x01\\x01\\x00H\\x00H\\x00\\x00\\xff\\xdb\\x00C\\x00\\x01\\x01\\x01\\x01\\…"
            ]
          },
          "metadata": {
            "tags": []
          }
        },
        {
          "output_type": "stream",
          "text": [
            "000000149406.jpg - 12.483\n"
          ],
          "name": "stdout"
        },
        {
          "output_type": "display_data",
          "data": {
            "application/vnd.jupyter.widget-view+json": {
              "model_id": "ddcba34d80b745fe9be9053e059c2c6e",
              "version_minor": 0,
              "version_major": 2
            },
            "text/plain": [
              "Image(value=b'\\xff\\xd8\\xff\\xe0\\x00\\x10JFIF\\x00\\x01\\x01\\x01\\x00H\\x00H\\x00\\x00\\xff\\xdb\\x00C\\x00\\x01\\x01\\x01\\x01\\…"
            ]
          },
          "metadata": {
            "tags": []
          }
        },
        {
          "output_type": "stream",
          "text": [
            "000000441586.jpg - 11.864\n"
          ],
          "name": "stdout"
        },
        {
          "output_type": "display_data",
          "data": {
            "application/vnd.jupyter.widget-view+json": {
              "model_id": "a2f73591ecaa4b2caf07b8198e487b6a",
              "version_minor": 0,
              "version_major": 2
            },
            "text/plain": [
              "Image(value=b'\\xff\\xd8\\xff\\xe0\\x00\\x10JFIF\\x00\\x01\\x01\\x01\\x00H\\x00H\\x00\\x00\\xff\\xe2\\x0cXICC_PROFILE\\x00\\x01\\x…"
            ]
          },
          "metadata": {
            "tags": []
          }
        },
        {
          "output_type": "stream",
          "text": [
            "000000408830.jpg - 11.688\n"
          ],
          "name": "stdout"
        },
        {
          "output_type": "display_data",
          "data": {
            "application/vnd.jupyter.widget-view+json": {
              "model_id": "8a2904a502eb4c859318daa9ae55ceee",
              "version_minor": 0,
              "version_major": 2
            },
            "text/plain": [
              "Image(value=b'\\xff\\xd8\\xff\\xe0\\x00\\x10JFIF\\x00\\x01\\x01\\x01\\x00H\\x00H\\x00\\x00\\xff\\xdb\\x00C\\x00\\x01\\x01\\x01\\x01\\…"
            ]
          },
          "metadata": {
            "tags": []
          }
        },
        {
          "output_type": "stream",
          "text": [
            "000000293245.jpg - 11.688\n"
          ],
          "name": "stdout"
        },
        {
          "output_type": "display_data",
          "data": {
            "application/vnd.jupyter.widget-view+json": {
              "model_id": "33851cb61e7649469172d9fe02b697ea",
              "version_minor": 0,
              "version_major": 2
            },
            "text/plain": [
              "Image(value=b'\\xff\\xd8\\xff\\xe0\\x00\\x10JFIF\\x00\\x01\\x01\\x01\\x00H\\x00H\\x00\\x00\\xff\\xe2\\x0cXICC_PROFILE\\x00\\x01\\x…"
            ]
          },
          "metadata": {
            "tags": []
          }
        },
        {
          "output_type": "stream",
          "text": [
            "000000270066.jpg - 11.498\n"
          ],
          "name": "stdout"
        },
        {
          "output_type": "display_data",
          "data": {
            "application/vnd.jupyter.widget-view+json": {
              "model_id": "39e574f81c4d46028bbad6995a4c6603",
              "version_minor": 0,
              "version_major": 2
            },
            "text/plain": [
              "Image(value=b'\\xff\\xd8\\xff\\xe0\\x00\\x10JFIF\\x00\\x01\\x01\\x01\\x00H\\x00H\\x00\\x00\\xff\\xdb\\x00C\\x00\\x01\\x01\\x01\\x01\\…"
            ]
          },
          "metadata": {
            "tags": []
          }
        },
        {
          "output_type": "stream",
          "text": [
            "000000018737.jpg - 11.236\n"
          ],
          "name": "stdout"
        },
        {
          "output_type": "display_data",
          "data": {
            "application/vnd.jupyter.widget-view+json": {
              "model_id": "5c8e0dc8528640d6b7793fa578cbccca",
              "version_minor": 0,
              "version_major": 2
            },
            "text/plain": [
              "Image(value=b'\\xff\\xd8\\xff\\xe0\\x00\\x10JFIF\\x00\\x01\\x01\\x01\\x00H\\x00H\\x00\\x00\\xff\\xed\\x00\\x84Photoshop 3.0\\x008…"
            ]
          },
          "metadata": {
            "tags": []
          }
        },
        {
          "output_type": "stream",
          "text": [
            "000000343934.jpg - 11.129\n"
          ],
          "name": "stdout"
        },
        {
          "output_type": "display_data",
          "data": {
            "application/vnd.jupyter.widget-view+json": {
              "model_id": "5e12a0e521864df0aa6018c55faeeeb3",
              "version_minor": 0,
              "version_major": 2
            },
            "text/plain": [
              "Image(value=b'\\xff\\xd8\\xff\\xe0\\x00\\x10JFIF\\x00\\x01\\x01\\x01\\x00\\xb4\\x00\\xb4\\x00\\x00\\xff\\xe2\\x0cXICC_PROFILE\\x00…"
            ]
          },
          "metadata": {
            "tags": []
          }
        }
      ]
    },
    {
      "cell_type": "code",
      "metadata": {
        "id": "mRWzON-_l11-",
        "outputId": "d9f0a7c9-eda7-4306-f05a-1aeca489c5c6",
        "colab": {
          "base_uri": "https://localhost:8080/",
          "height": 1000,
          "referenced_widgets": [
            "e8ec6edeb7a14d008087596ed9d0f5c3",
            "04f6622a7cdf455190f64bf7824ec3e6",
            "ce02ef9085174a8b931666c4d67ffb16",
            "2b349a1c603d46a48eae4367c66495de",
            "da42b58d7d80435290c9c40c352aa255",
            "c9e4d36ae025456887bdcfed8d7a01f4",
            "8a16451f53044ab586fddae5a17dc998",
            "0a67cb42f52743cf8242a5776f56e2d8",
            "fb9084df8aa9446cb91510848f5ddff4",
            "37e15b85209747bcb80a49a81df69e02",
            "013f494528134739b864976b3617cc86",
            "d54d845fd92b4bb6a95ec422ca9d54ad",
            "929c7c6be99e47d5807bffe0e0bd32e2",
            "6226e62a80cb4a98a10c75a7cbe11deb",
            "4f61b2b3b9ad4474a069a1edc9f804c3",
            "0f3eefd7d56c4208afcdc005ad303927",
            "ddd7075c746f486f81ffb637022ad71c",
            "3d6740eea6e24b47b904470e299da42b",
            "408857b07a084ccca1d8f39736db4155",
            "7728deec67bb4aabb5981d6ba2b233b4"
          ]
        }
      },
      "source": [
        "# Optional reordering task\n",
        "\n",
        "#get the IDs of images found by whoosh in hit\n",
        "#transforms IDs into index positions in the results_descriptors\n",
        "#to get the corresponding image features\n",
        "#reorder the features using the search and\n",
        "#show the result\n",
        "img_ids = [id for _,id in results]\n",
        "reordered = []\n",
        "features = []\n",
        "for _,id in results:\n",
        "  features.append(descriptors[np.where(ids == id)][0])\n",
        "reordered = search(img, features, img_ids,KQ)\n",
        "print(reordered)\n",
        "display_results(reordered)"
      ],
      "execution_count": 30,
      "outputs": [
        {
          "output_type": "stream",
          "text": [
            "[(1.0000001218082937, '000000321557.jpg'), (0.5208934502487856, '000000297147.jpg'), (0.5062005759392438, '000000408830.jpg'), (0.4567090213145806, '000000293245.jpg'), (0.3991721766381607, '000000270066.jpg'), (0.3378918928825403, '000000441586.jpg'), (0.2910694436621779, '000000343934.jpg'), (0.241505143664762, '000000149406.jpg'), (0.2243554475993307, '000000018737.jpg'), (0.2116141455503468, '000000038829.jpg')]\n",
            "000000321557.jpg - 1.000\n"
          ],
          "name": "stdout"
        },
        {
          "output_type": "display_data",
          "data": {
            "application/vnd.jupyter.widget-view+json": {
              "model_id": "e8ec6edeb7a14d008087596ed9d0f5c3",
              "version_minor": 0,
              "version_major": 2
            },
            "text/plain": [
              "Image(value=b'\\xff\\xd8\\xff\\xe0\\x00\\x10JFIF\\x00\\x01\\x01\\x01\\x00H\\x00H\\x00\\x00\\xff\\xdb\\x00C\\x00\\x01\\x01\\x01\\x01\\…"
            ]
          },
          "metadata": {
            "tags": []
          }
        },
        {
          "output_type": "stream",
          "text": [
            "000000297147.jpg - 0.521\n"
          ],
          "name": "stdout"
        },
        {
          "output_type": "display_data",
          "data": {
            "application/vnd.jupyter.widget-view+json": {
              "model_id": "ce02ef9085174a8b931666c4d67ffb16",
              "version_minor": 0,
              "version_major": 2
            },
            "text/plain": [
              "Image(value=b'\\xff\\xd8\\xff\\xe0\\x00\\x10JFIF\\x00\\x01\\x01\\x01\\x00H\\x00H\\x00\\x00\\xff\\xdb\\x00C\\x00\\x01\\x01\\x01\\x01\\…"
            ]
          },
          "metadata": {
            "tags": []
          }
        },
        {
          "output_type": "stream",
          "text": [
            "000000408830.jpg - 0.506\n"
          ],
          "name": "stdout"
        },
        {
          "output_type": "display_data",
          "data": {
            "application/vnd.jupyter.widget-view+json": {
              "model_id": "da42b58d7d80435290c9c40c352aa255",
              "version_minor": 0,
              "version_major": 2
            },
            "text/plain": [
              "Image(value=b'\\xff\\xd8\\xff\\xe0\\x00\\x10JFIF\\x00\\x01\\x01\\x01\\x00H\\x00H\\x00\\x00\\xff\\xdb\\x00C\\x00\\x01\\x01\\x01\\x01\\…"
            ]
          },
          "metadata": {
            "tags": []
          }
        },
        {
          "output_type": "stream",
          "text": [
            "000000293245.jpg - 0.457\n"
          ],
          "name": "stdout"
        },
        {
          "output_type": "display_data",
          "data": {
            "application/vnd.jupyter.widget-view+json": {
              "model_id": "8a16451f53044ab586fddae5a17dc998",
              "version_minor": 0,
              "version_major": 2
            },
            "text/plain": [
              "Image(value=b'\\xff\\xd8\\xff\\xe0\\x00\\x10JFIF\\x00\\x01\\x01\\x01\\x00H\\x00H\\x00\\x00\\xff\\xe2\\x0cXICC_PROFILE\\x00\\x01\\x…"
            ]
          },
          "metadata": {
            "tags": []
          }
        },
        {
          "output_type": "stream",
          "text": [
            "000000270066.jpg - 0.399\n"
          ],
          "name": "stdout"
        },
        {
          "output_type": "display_data",
          "data": {
            "application/vnd.jupyter.widget-view+json": {
              "model_id": "fb9084df8aa9446cb91510848f5ddff4",
              "version_minor": 0,
              "version_major": 2
            },
            "text/plain": [
              "Image(value=b'\\xff\\xd8\\xff\\xe0\\x00\\x10JFIF\\x00\\x01\\x01\\x01\\x00H\\x00H\\x00\\x00\\xff\\xdb\\x00C\\x00\\x01\\x01\\x01\\x01\\…"
            ]
          },
          "metadata": {
            "tags": []
          }
        },
        {
          "output_type": "stream",
          "text": [
            "000000441586.jpg - 0.338\n"
          ],
          "name": "stdout"
        },
        {
          "output_type": "display_data",
          "data": {
            "application/vnd.jupyter.widget-view+json": {
              "model_id": "013f494528134739b864976b3617cc86",
              "version_minor": 0,
              "version_major": 2
            },
            "text/plain": [
              "Image(value=b'\\xff\\xd8\\xff\\xe0\\x00\\x10JFIF\\x00\\x01\\x01\\x01\\x00H\\x00H\\x00\\x00\\xff\\xe2\\x0cXICC_PROFILE\\x00\\x01\\x…"
            ]
          },
          "metadata": {
            "tags": []
          }
        },
        {
          "output_type": "stream",
          "text": [
            "000000343934.jpg - 0.291\n"
          ],
          "name": "stdout"
        },
        {
          "output_type": "display_data",
          "data": {
            "application/vnd.jupyter.widget-view+json": {
              "model_id": "929c7c6be99e47d5807bffe0e0bd32e2",
              "version_minor": 0,
              "version_major": 2
            },
            "text/plain": [
              "Image(value=b'\\xff\\xd8\\xff\\xe0\\x00\\x10JFIF\\x00\\x01\\x01\\x01\\x00\\xb4\\x00\\xb4\\x00\\x00\\xff\\xe2\\x0cXICC_PROFILE\\x00…"
            ]
          },
          "metadata": {
            "tags": []
          }
        },
        {
          "output_type": "stream",
          "text": [
            "000000149406.jpg - 0.242\n"
          ],
          "name": "stdout"
        },
        {
          "output_type": "display_data",
          "data": {
            "application/vnd.jupyter.widget-view+json": {
              "model_id": "4f61b2b3b9ad4474a069a1edc9f804c3",
              "version_minor": 0,
              "version_major": 2
            },
            "text/plain": [
              "Image(value=b'\\xff\\xd8\\xff\\xe0\\x00\\x10JFIF\\x00\\x01\\x01\\x01\\x00H\\x00H\\x00\\x00\\xff\\xdb\\x00C\\x00\\x01\\x01\\x01\\x01\\…"
            ]
          },
          "metadata": {
            "tags": []
          }
        },
        {
          "output_type": "stream",
          "text": [
            "000000018737.jpg - 0.224\n"
          ],
          "name": "stdout"
        },
        {
          "output_type": "display_data",
          "data": {
            "application/vnd.jupyter.widget-view+json": {
              "model_id": "ddd7075c746f486f81ffb637022ad71c",
              "version_minor": 0,
              "version_major": 2
            },
            "text/plain": [
              "Image(value=b'\\xff\\xd8\\xff\\xe0\\x00\\x10JFIF\\x00\\x01\\x01\\x01\\x00H\\x00H\\x00\\x00\\xff\\xed\\x00\\x84Photoshop 3.0\\x008…"
            ]
          },
          "metadata": {
            "tags": []
          }
        },
        {
          "output_type": "stream",
          "text": [
            "000000038829.jpg - 0.212\n"
          ],
          "name": "stdout"
        },
        {
          "output_type": "display_data",
          "data": {
            "application/vnd.jupyter.widget-view+json": {
              "model_id": "408857b07a084ccca1d8f39736db4155",
              "version_minor": 0,
              "version_major": 2
            },
            "text/plain": [
              "Image(value=b'\\xff\\xd8\\xff\\xe0\\x00\\x10JFIF\\x00\\x01\\x01\\x01\\x00H\\x00H\\x00\\x00\\xff\\xdb\\x00C\\x00\\x01\\x01\\x01\\x01\\…"
            ]
          },
          "metadata": {
            "tags": []
          }
        }
      ]
    }
  ]
}